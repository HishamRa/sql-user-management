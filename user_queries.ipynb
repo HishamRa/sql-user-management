{
 "cells": [
  {
   "cell_type": "code",
   "execution_count": 22,
   "metadata": {
    "collapsed": true
   },
   "outputs": [],
   "source": [
    "#importing library\n",
    "import sqlite3"
   ]
  },
  {
   "cell_type": "code",
   "execution_count": 23,
   "outputs": [],
   "source": [
    "connection = sqlite3.connect('users_management.db')"
   ],
   "metadata": {
    "collapsed": false,
    "pycharm": {
     "name": "#%%\n"
    }
   }
  },
  {
   "cell_type": "code",
   "execution_count": 24,
   "outputs": [],
   "source": [
    "cursor = connection.cursor()"
   ],
   "metadata": {
    "collapsed": false,
    "pycharm": {
     "name": "#%%\n"
    }
   }
  },
  {
   "cell_type": "code",
   "execution_count": 25,
   "outputs": [
    {
     "data": {
      "text/plain": "<sqlite3.Cursor at 0x1fa341c2c70>"
     },
     "execution_count": 25,
     "metadata": {},
     "output_type": "execute_result"
    }
   ],
   "source": [
    "#creating table\n",
    "user_table = \"\"\"CREATE TABLE Users (\n",
    "ID INT NOT NULL PRIMARY KEY,\n",
    "FirstName VARCHAR(200) NOT NULL,\n",
    "LastName VARCHAR(200) NOT NULL,\n",
    "Age INT,\n",
    "Salary INT NOT NULL,\n",
    "Occupation VARCHAR(200),\n",
    "Country VARCHAR(200),\n",
    "YearJoined INT);\"\"\"\n",
    "\n",
    "cursor.execute(user_table)"
   ],
   "metadata": {
    "collapsed": false,
    "pycharm": {
     "name": "#%%\n"
    }
   }
  },
  {
   "cell_type": "code",
   "execution_count": 26,
   "outputs": [
    {
     "data": {
      "text/plain": "<sqlite3.Cursor at 0x1fa341c2c70>"
     },
     "execution_count": 26,
     "metadata": {},
     "output_type": "execute_result"
    }
   ],
   "source": [
    "#inserting values to the table\n",
    "users = \"\"\"INSERT INTO Users VALUES\n",
    "(01, 'Hisham', 'Ramadan', 22, 55000, 'Data Scientist', 'Canada', 2020),\n",
    "(02, 'Samantha', 'Brocks', 35, 20000, 'Customer Representative', 'Canada', 2015),\n",
    "(03, 'Sarah', 'Lavine', 30, 10000, 'Secretary', 'Sudan', 2017),\n",
    "(04, 'Destiny', 'Indo', 35, 40000, 'Sales Agent', 'USA', 2015),\n",
    "(05, 'Layla', 'Seter', 35, 2500000, 'CEO', 'Syria', 2018),\n",
    "(06, 'Xin', 'Loki', 35, 280000, 'Chief Officer', 'China', 2020),\n",
    "(07, 'Ahmed', 'Blag', 35, 200000, 'Chief Financial Officer', 'Egypt', 2010),\n",
    "(08, 'James', 'Jonesi', 35, 10000, 'Call Agent', 'Singapore', 2011);\n",
    "\"\"\"\n",
    "cursor.execute(users)"
   ],
   "metadata": {
    "collapsed": false,
    "pycharm": {
     "name": "#%%\n"
    }
   }
  },
  {
   "cell_type": "code",
   "execution_count": 27,
   "outputs": [
    {
     "data": {
      "text/plain": "<sqlite3.Cursor at 0x1fa341c2c70>"
     },
     "execution_count": 27,
     "metadata": {},
     "output_type": "execute_result"
    }
   ],
   "source": [
    "#getting the data for the table created\n",
    "cursor.execute(\"SELECT * FROM Users\")"
   ],
   "metadata": {
    "collapsed": false,
    "pycharm": {
     "name": "#%%\n"
    }
   }
  },
  {
   "cell_type": "code",
   "execution_count": 28,
   "outputs": [
    {
     "name": "stdout",
     "output_type": "stream",
     "text": [
      "[(1, 'Hisham', 'Ramadan', 22, 55000, 'Data Scientist', 'Canada', 2020), (2, 'Samantha', 'Brocks', 35, 20000, 'Customer Representative', 'Canada', 2015), (3, 'Sarah', 'Lavine', 30, 10000, 'Secretary', 'Sudan', 2017), (4, 'Destiny', 'Indo', 35, 40000, 'Sales Agent', 'USA', 2015), (5, 'Layla', 'Seter', 35, 2500000, 'CEO', 'Syria', 2018), (6, 'Xin', 'Loki', 35, 280000, 'Chief Officer', 'China', 2020), (7, 'Ahmed', 'Blag', 35, 200000, 'Chief Financial Officer', 'Egypt', 2010), (8, 'James', 'Jonesi', 35, 10000, 'Call Agent', 'Singapore', 2011)]\n"
     ]
    }
   ],
   "source": [
    "#viewing the table\n",
    "view = cursor.fetchall()\n",
    "print(view)"
   ],
   "metadata": {
    "collapsed": false,
    "pycharm": {
     "name": "#%%\n"
    }
   }
  },
  {
   "cell_type": "code",
   "execution_count": 29,
   "outputs": [
    {
     "name": "stdout",
     "output_type": "stream",
     "text": [
      "[(1, 'Hisham', 'Ramadan', 22, 55000, 'Data Scientist', 'Canada', 2020), (2, 'Samantha', 'Brocks', 35, 20000, 'Customer Representative', 'Canada', 2015)]\n"
     ]
    }
   ],
   "source": [
    "#viewing employees from Canada\n",
    "canadians = \"\"\"SELECT * FROM Users\n",
    "WHERE Country='Canada';\"\"\"\n",
    "cursor.execute(canadians)\n",
    "view_canadians=cursor.fetchall()\n",
    "print(view_canadians)"
   ],
   "metadata": {
    "collapsed": false,
    "pycharm": {
     "name": "#%%\n"
    }
   }
  },
  {
   "cell_type": "code",
   "execution_count": 30,
   "outputs": [
    {
     "name": "stdout",
     "output_type": "stream",
     "text": [
      "[(5, 'Layla', 'Seter', 35, 2500000, 'CEO', 'Syria', 2018), (6, 'Xin', 'Loki', 35, 280000, 'Chief Officer', 'China', 2020), (7, 'Ahmed', 'Blag', 35, 200000, 'Chief Financial Officer', 'Egypt', 2010)]\n"
     ]
    }
   ],
   "source": [
    "#viewing employees with the same age and make 100000 and over\n",
    "cursor.execute(\"\"\"SELECT * FROM Users\n",
    "WHERE Age=35\n",
    "AND Salary >= 100000;\"\"\")\n",
    "age_salary = cursor.fetchall()\n",
    "print(age_salary)\n"
   ],
   "metadata": {
    "collapsed": false,
    "pycharm": {
     "name": "#%%\n"
    }
   }
  },
  {
   "cell_type": "code",
   "execution_count": 31,
   "outputs": [
    {
     "name": "stdout",
     "output_type": "stream",
     "text": [
      "[(5, 'Layla', 'Seter', 35, 2500000, 'CEO', 'Syria', 2018)]\n"
     ]
    }
   ],
   "source": [
    "#employee with highest salary\n",
    "cursor.execute(\"\"\"SELECT * FROM Users\n",
    "WHERE SALARY IN\n",
    "(SELECT Max(Salary) FROM Users);\"\"\")\n",
    "highest_salary = cursor.fetchall()\n",
    "print(highest_salary)"
   ],
   "metadata": {
    "collapsed": false,
    "pycharm": {
     "name": "#%%\n"
    }
   }
  },
  {
   "cell_type": "code",
   "execution_count": 32,
   "outputs": [
    {
     "name": "stdout",
     "output_type": "stream",
     "text": [
      "[(3, 'Sarah', 'Lavine', 30, 10000, 'Secretary', 'Sudan', 2017), (8, 'James', 'Jonesi', 35, 10000, 'Call Agent', 'Singapore', 2011)]\n"
     ]
    }
   ],
   "source": [
    "#employee with lowest salary\n",
    "cursor.execute(\"\"\"SELECT * FROM Users\n",
    "WHERE SALARY IN\n",
    "(SELECT Min(Salary) FROM Users);\n",
    "\"\"\")\n",
    "lowest_salary = cursor.fetchall()\n",
    "print(lowest_salary)"
   ],
   "metadata": {
    "collapsed": false,
    "pycharm": {
     "name": "#%%\n"
    }
   }
  },
  {
   "cell_type": "code",
   "execution_count": 33,
   "outputs": [
    {
     "data": {
      "text/plain": "<sqlite3.Cursor at 0x1fa341c2c70>"
     },
     "execution_count": 33,
     "metadata": {},
     "output_type": "execute_result"
    }
   ],
   "source": [
    "#new sales table\n",
    "sales_table = \"\"\"CREATE TABLE Sales (\n",
    "ID INT NOT NULL PRIMARY KEY,\n",
    "Sales INT);\"\"\"\n",
    "\n",
    "cursor.execute(sales_table)"
   ],
   "metadata": {
    "collapsed": false,
    "pycharm": {
     "name": "#%%\n"
    }
   }
  },
  {
   "cell_type": "code",
   "execution_count": 34,
   "outputs": [
    {
     "data": {
      "text/plain": "<sqlite3.Cursor at 0x1fa341c2c70>"
     },
     "execution_count": 34,
     "metadata": {},
     "output_type": "execute_result"
    }
   ],
   "source": [
    "#insering values into the sales table\n",
    "sales = \"\"\"INSERT INTO Sales VALUES\n",
    "(01, 500),\n",
    "(02, 2000),\n",
    "(04, 50),\n",
    "(08, 10000);\n",
    "\"\"\"\n",
    "cursor.execute(sales)"
   ],
   "metadata": {
    "collapsed": false,
    "pycharm": {
     "name": "#%%\n"
    }
   }
  },
  {
   "cell_type": "code",
   "execution_count": 35,
   "outputs": [
    {
     "name": "stdout",
     "output_type": "stream",
     "text": [
      "[('Hisham', 55000, 'Canada', 500), ('Samantha', 20000, 'Canada', 2000), ('Destiny', 40000, 'USA', 50), ('James', 10000, 'Singapore', 10000)]\n"
     ]
    }
   ],
   "source": [
    "#joining firstname, salary, country from users with sales from sales\n",
    "\n",
    "cursor.execute(\"\"\"SELECT Users.FirstName, Users.Salary, Users.Country, Sales.Sales\n",
    "FROM Users\n",
    "JOIN Sales ON Users.ID=Sales.ID;\"\"\")\n",
    "\n",
    "both_tables=cursor.fetchall()\n",
    "print(both_tables)"
   ],
   "metadata": {
    "collapsed": false,
    "pycharm": {
     "name": "#%%\n"
    }
   }
  },
  {
   "cell_type": "code",
   "execution_count": 36,
   "outputs": [],
   "source": [
    "connection.commit()\n"
   ],
   "metadata": {
    "collapsed": false,
    "pycharm": {
     "name": "#%%\n"
    }
   }
  },
  {
   "cell_type": "code",
   "execution_count": 37,
   "outputs": [],
   "source": [
    "connection.close()"
   ],
   "metadata": {
    "collapsed": false,
    "pycharm": {
     "name": "#%%\n"
    }
   }
  }
 ],
 "metadata": {
  "kernelspec": {
   "display_name": "Python 3",
   "language": "python",
   "name": "python3"
  },
  "language_info": {
   "codemirror_mode": {
    "name": "ipython",
    "version": 2
   },
   "file_extension": ".py",
   "mimetype": "text/x-python",
   "name": "python",
   "nbconvert_exporter": "python",
   "pygments_lexer": "ipython2",
   "version": "2.7.6"
  }
 },
 "nbformat": 4,
 "nbformat_minor": 0
}